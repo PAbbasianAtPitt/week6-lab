{
 "cells": [
  {
   "cell_type": "code",
   "execution_count": 2,
   "metadata": {},
   "outputs": [
    {
     "name": "stdin",
     "output_type": "stream",
     "text": [
      "please enter your full name:  Peyman Abbasian\n",
      "please enter your age:  51\n"
     ]
    },
    {
     "name": "stdout",
     "output_type": "stream",
     "text": [
      "Peyman Abbasian, you are 51 years old and there are 7 vowels and 7 Consonants in your name. \n"
     ]
    }
   ],
   "source": [
    "# lab 6 vowel and consonant counters\n",
    "import string\n",
    "entryStr = \"please enter your full name: \"\n",
    "ageEntryStr = \"please enter your age: \"\n",
    "messagePart_1Str = \", you are \"\n",
    "messagePart_AgeStr =\" years old and there are \"\n",
    "vowelStr = \" vowels and \"\n",
    "consonantStr = \" Consonants in your name. \"\n",
    "\n",
    "aString = input(entryStr)\n",
    "ageString = input(ageEntryStr)\n",
    "aString_lower = aString.lower()\n",
    "length = len(aString_lower)\n",
    "index = 0\n",
    "vowelCounter = 0\n",
    "consonantCounter = 0\n",
    "while index < length:\n",
    "    letter = aString_lower[index]\n",
    "    if 'a' in letter or 'e' in letter or 'i' in letter or 'o' in letter or 'u' in letter or 'y' in letter:\n",
    "        vowelCounter = vowelCounter + 1\n",
    "    elif letter.isalpha():\n",
    "        consonantCounter = consonantCounter + 1\n",
    "    index = index + 1    \n",
    "message = aString + messagePart_1Str + ageString + messagePart_AgeStr + str(vowelCounter) + vowelStr + str(consonantCounter) + consonantStr\n",
    "print(message)"
   ]
  },
  {
   "cell_type": "code",
   "execution_count": null,
   "metadata": {},
   "outputs": [],
   "source": []
  }
 ],
 "metadata": {
  "kernelspec": {
   "display_name": "Python 3",
   "language": "python",
   "name": "python3"
  },
  "language_info": {
   "codemirror_mode": {
    "name": "ipython",
    "version": 3
   },
   "file_extension": ".py",
   "mimetype": "text/x-python",
   "name": "python",
   "nbconvert_exporter": "python",
   "pygments_lexer": "ipython3",
   "version": "3.8.3"
  }
 },
 "nbformat": 4,
 "nbformat_minor": 4
}
